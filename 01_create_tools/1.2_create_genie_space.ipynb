{
 "cells": [
  {
   "cell_type": "markdown",
   "metadata": {
    "application/vnd.databricks.v1+cell": {
     "cellMetadata": {},
     "inputWidgets": {},
     "nuid": "491446bd-4db7-42ec-878b-9179fbf69965",
     "showTitle": false,
     "tableResultSettingsMap": {},
     "title": ""
    }
   },
   "source": [
    "# 1.2 Create Genie Space\n",
    "Chat with your structured tables using natural language. Our [Genie Spaces](https://www.databricks.com/product/business-intelligence/ai-bi-genie) adds a LLM to your tables so it can reason from your chat request and generate SQL code to query the tables to return you an answer to your question"
   ]
  },
  {
   "cell_type": "code",
   "execution_count": 0,
   "metadata": {
    "application/vnd.databricks.v1+cell": {
     "cellMetadata": {
      "byteLimit": 2048000,
      "rowLimit": 10000
     },
     "inputWidgets": {},
     "nuid": "00156c76-ec8f-4e01-9a6f-3da254a1517b",
     "showTitle": false,
     "tableResultSettingsMap": {},
     "title": ""
    }
   },
   "outputs": [],
   "source": [
    "%pip install -U langgraph==0.3.2 langchain==0.3.19 langchain_experimental==0.3.4 databricks-sdk==0.44.1 mlflow>=2.20.3 databricks-langchain==0.3.0\n",
    "dbutils.library.restartPython()"
   ]
  },
  {
   "cell_type": "markdown",
   "metadata": {
    "application/vnd.databricks.v1+cell": {
     "cellMetadata": {},
     "inputWidgets": {},
     "nuid": "aac0cc6c-6732-4f8a-beed-303979939cd1",
     "showTitle": false,
     "tableResultSettingsMap": {},
     "title": ""
    }
   },
   "source": [
    "### [Set up](https://docs.databricks.com/aws/en/genie/set-up#-create-a-genie-space) a Genie Space via the UI\n",
    "Then instantiate a `GenieAgent` to chat with your table [`retail_prod.agents.cust_service_data`](https://e2-demo-field-eng.cloud.databricks.com/explore/data/retail_prod/agents/cust_service_data?o=1444828305810485&activeTab=sample)"
   ]
  },
  {
   "cell_type": "code",
   "execution_count": 0,
   "metadata": {
    "application/vnd.databricks.v1+cell": {
     "cellMetadata": {
      "byteLimit": 2048000,
      "rowLimit": 10000
     },
     "inputWidgets": {},
     "nuid": "db30b818-69eb-4abd-b429-43381c5b5152",
     "showTitle": false,
     "tableResultSettingsMap": {},
     "title": ""
    }
   },
   "outputs": [],
   "source": [
    "from databricks_langchain.genie import GenieAgent\n",
    "\n",
    "# Get you Genie space ID from the URL \n",
    "# https://workspace_host/genie/rooms/<genie_id>/chats/...\n",
    "genie_space_id =  \"01f02f99c88f159c8828d2ee1043c198\"\n",
    "genie_agent = GenieAgent(genie_space_id, \"Customer Service\", description=\"Chat with your Customer Service table\")"
   ]
  },
  {
   "cell_type": "markdown",
   "metadata": {
    "application/vnd.databricks.v1+cell": {
     "cellMetadata": {},
     "inputWidgets": {},
     "nuid": "dd068e9a-bcaf-4be8-82f8-013b6d3534bc",
     "showTitle": false,
     "tableResultSettingsMap": {},
     "title": ""
    }
   },
   "source": [
    "## Test your Genie Agent"
   ]
  },
  {
   "cell_type": "code",
   "execution_count": 0,
   "metadata": {
    "application/vnd.databricks.v1+cell": {
     "cellMetadata": {
      "byteLimit": 2048000,
      "rowLimit": 10000
     },
     "inputWidgets": {},
     "nuid": "a1a64d10-3400-4008-b43a-51d3d663b6d8",
     "showTitle": false,
     "tableResultSettingsMap": {},
     "title": ""
    }
   },
   "outputs": [],
   "source": [
    "query = \"Which customer had the most interactions?\"\n",
    "response = genie_agent.invoke(\n",
    "    {\"messages\": [{\"role\": \"user\", \"content\": query}]})\n",
    "response['messages'][0].content"
   ]
  },
  {
   "cell_type": "markdown",
   "metadata": {
    "application/vnd.databricks.v1+cell": {
     "cellMetadata": {},
     "inputWidgets": {},
     "nuid": "2ae65886-8893-4664-b25e-98cabc30665a",
     "showTitle": false,
     "tableResultSettingsMap": {},
     "title": ""
    }
   },
   "source": [
    "## [OPTIONAL] Register Genie as a UC Function\n",
    "By registering Genie as a UC Function, you'll be able to access and re-use it from the Unity Catalog without having to re-instantiate `GenieAgent`.\n",
    "\n",
    "In this workshop, we will use Genie as a `GenieAgent` in memory instead of a UC function although you can use either.\n",
    "\n",
    "NB: the Genie space persists regardless"
   ]
  },
  {
   "cell_type": "code",
   "execution_count": 0,
   "metadata": {
    "application/vnd.databricks.v1+cell": {
     "cellMetadata": {
      "byteLimit": 2048000,
      "implicitDf": true,
      "rowLimit": 10000
     },
     "inputWidgets": {},
     "nuid": "2eb59cf0-8ab6-4ba4-ac5b-b768705da452",
     "showTitle": false,
     "tableResultSettingsMap": {},
     "title": ""
    }
   },
   "outputs": [],
   "source": [
    "%sql\n",
    "CREATE OR REPLACE FUNCTION yen_training.vs.genie_cust_data (\n",
    "  question STRING COMMENT \"Question to be answered using genie table\",\n",
    "  context STRING COMMENT \"Provide relevant customer service request data to help answer the questionUse 'no relevant history' if there is nothing relevant to answer the question.\")\n",
    "RETURNS STRING\n",
    "LANGUAGE SQL\n",
    "COMMENT 'Chat with the table retail_prod.agents.cust_service_data which lists all the customers and their interactions with customer service.'\n",
    "RETURN \n",
    "  SELECT _genie_query(\n",
    "    \"https://e2-demo-field-eng.cloud.databricks.com/\",\n",
    "    secret('hls-tokens', 'agents-demo'),\n",
    "    \"01f02f99c88f159c8828d2ee1043c198\", -- genie space\n",
    "    question, -- retrieved from function\n",
    "    context -- retrieved from function\n",
    ");\n"
   ]
  }
 ],
 "metadata": {
  "application/vnd.databricks.v1+notebook": {
   "computePreferences": null,
   "dashboards": [],
   "environmentMetadata": {
    "base_environment": "",
    "environment_version": "2"
   },
   "inputWidgetPreferences": null,
   "language": "python",
   "notebookMetadata": {
    "mostRecentlyExecutedCommandWithImplicitDF": {
     "commandId": 2588019255123835,
     "dataframes": [
      "_sqldf"
     ]
    },
    "pythonIndentUnit": 4
   },
   "notebookName": "1.2_create_genie_space",
   "widgets": {}
  },
  "language_info": {
   "name": "python"
  }
 },
 "nbformat": 4,
 "nbformat_minor": 0
}
