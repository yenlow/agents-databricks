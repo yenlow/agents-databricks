{
 "cells": [
  {
   "cell_type": "markdown",
   "metadata": {
    "application/vnd.databricks.v1+cell": {
     "cellMetadata": {},
     "inputWidgets": {},
     "nuid": "cf7c14b3-c886-4280-b439-6b3a07c12adb",
     "showTitle": false,
     "tableResultSettingsMap": {},
     "title": ""
    }
   },
   "source": [
    "# Setup (only run once)\n",
    "1. Makes a copy of the required tables to avoid deletion\n",
    "2. Makes a VS endpoint and index from a delta table"
   ]
  },
  {
   "cell_type": "code",
   "execution_count": 0,
   "metadata": {
    "application/vnd.databricks.v1+cell": {
     "cellMetadata": {
      "byteLimit": 2048000,
      "rowLimit": 10000
     },
     "inputWidgets": {},
     "nuid": "6069a27a-a823-4766-9278-0f28cdb5e726",
     "showTitle": false,
     "tableResultSettingsMap": {},
     "title": ""
    }
   },
   "outputs": [],
   "source": [
    "%pip install -qqqq -U -r requirements.txt\n",
    "%pip install mlflow-skinny databricks_langchain==0.5.0\n",
    "# Restart to load the packages into the Python environment\n",
    "dbutils.library.restartPython()"
   ]
  },
  {
   "cell_type": "code",
   "execution_count": 0,
   "metadata": {
    "application/vnd.databricks.v1+cell": {
     "cellMetadata": {
      "byteLimit": 2048000,
      "rowLimit": 10000
     },
     "inputWidgets": {},
     "nuid": "9def36bb-6890-48cf-ae91-3df57d875887",
     "showTitle": false,
     "tableResultSettingsMap": {},
     "title": ""
    }
   },
   "outputs": [],
   "source": [
    "from mlflow.models import ModelConfig\n",
    "\n",
    "config = ModelConfig(development_config=\"../02_agent/config.yml\")\n",
    "config.to_dict()"
   ]
  },
  {
   "cell_type": "code",
   "execution_count": 0,
   "metadata": {
    "application/vnd.databricks.v1+cell": {
     "cellMetadata": {
      "byteLimit": 2048000,
      "rowLimit": 10000
     },
     "inputWidgets": {},
     "nuid": "f2914943-e9f5-49ff-8a51-0b435bb367f8",
     "showTitle": false,
     "tableResultSettingsMap": {},
     "title": ""
    }
   },
   "outputs": [],
   "source": [
    "catalog_name = config.get('catalog')\n",
    "schema_name = config.get('schema')\n",
    "\n",
    "spark.sql(f\"CREATE CATALOG IF NOT EXISTS {catalog_name}\")\n",
    "spark.sql(f\"CREATE SCHEMA IF NOT EXISTS {catalog_name}.{schema_name}\")"
   ]
  },
  {
   "cell_type": "markdown",
   "metadata": {
    "application/vnd.databricks.v1+cell": {
     "cellMetadata": {},
     "inputWidgets": {},
     "nuid": "30c11c7f-e9d1-42fd-b911-e670915f1e22",
     "showTitle": false,
     "tableResultSettingsMap": {},
     "title": ""
    }
   },
   "source": [
    "## Make a copy of the required tables\n",
    "In case they get deleted"
   ]
  },
  {
   "cell_type": "code",
   "execution_count": 0,
   "metadata": {
    "application/vnd.databricks.v1+cell": {
     "cellMetadata": {
      "byteLimit": 2048000,
      "implicitDf": true,
      "rowLimit": 10000
     },
     "inputWidgets": {},
     "nuid": "9268fa04-5e7a-4f92-99b9-e5894ef0f8fe",
     "showTitle": false,
     "tableResultSettingsMap": {},
     "title": ""
    }
   },
   "outputs": [],
   "source": [
    "spark.sql(f\"DROP TABLE IF EXISTS {catalog_name}.{schema_name}.cust_service_data\")\n",
    "spark.sql(f\"\"\"\n",
    "    CREATE TABLE {catalog_name}.{schema_name}.cust_service_data AS \n",
    "    SELECT * FROM retail_prod.agents.cust_service_data\n",
    "\"\"\")"
   ]
  },
  {
   "cell_type": "code",
   "execution_count": 0,
   "metadata": {
    "application/vnd.databricks.v1+cell": {
     "cellMetadata": {
      "byteLimit": 2048000,
      "implicitDf": true,
      "rowLimit": 10000
     },
     "inputWidgets": {},
     "nuid": "8c5a0d29-8691-44ae-97aa-24ba6c4c1807",
     "showTitle": false,
     "tableResultSettingsMap": {},
     "title": ""
    }
   },
   "outputs": [],
   "source": [
    "spark.sql(f\"DROP TABLE IF EXISTS {catalog_name}.{schema_name}.policies\")\n",
    "spark.sql(f\"\"\"\n",
    "    CREATE TABLE {catalog_name}.{schema_name}.policies AS \n",
    "    SELECT * FROM retail_prod.agents.policies\n",
    "\"\"\")"
   ]
  },
  {
   "cell_type": "code",
   "execution_count": 0,
   "metadata": {
    "application/vnd.databricks.v1+cell": {
     "cellMetadata": {
      "byteLimit": 2048000,
      "implicitDf": true,
      "rowLimit": 10000
     },
     "inputWidgets": {},
     "nuid": "6900dee8-c7b2-4eb5-a4cd-350d04358013",
     "showTitle": false,
     "tableResultSettingsMap": {},
     "title": ""
    }
   },
   "outputs": [],
   "source": [
    "spark.sql(f\"DROP TABLE IF EXISTS {catalog_name}.{schema_name}.product_docs\")\n",
    "spark.sql(f\"\"\"\n",
    "    CREATE TABLE {catalog_name}.{schema_name}.product_docs AS \n",
    "    SELECT * FROM retail_prod.agents.product_docs\n",
    "\"\"\")"
   ]
  },
  {
   "cell_type": "code",
   "execution_count": 0,
   "metadata": {
    "application/vnd.databricks.v1+cell": {
     "cellMetadata": {
      "byteLimit": 2048000,
      "implicitDf": true,
      "rowLimit": 10000
     },
     "inputWidgets": {},
     "nuid": "3b52fd5d-5be2-4c18-9a22-e3391750d3aa",
     "showTitle": false,
     "tableResultSettingsMap": {},
     "title": ""
    }
   },
   "outputs": [],
   "source": [
    "%sql\n",
    "SHOW TBLPROPERTIES yen_training.agents.product_docs"
   ]
  },
  {
   "cell_type": "code",
   "execution_count": 0,
   "metadata": {
    "application/vnd.databricks.v1+cell": {
     "cellMetadata": {
      "byteLimit": 2048000,
      "rowLimit": 10000
     },
     "inputWidgets": {},
     "nuid": "efdc9918-b16e-4ee5-8f01-66a834d106fd",
     "showTitle": false,
     "tableResultSettingsMap": {},
     "title": ""
    }
   },
   "outputs": [],
   "source": [
    "spark.sql(f\"\"\"\n",
    "ALTER TABLE {catalog_name}.{schema_name}.product_docs SET TBLPROPERTIES (delta.enableChangeDataFeed = true)\n",
    "\"\"\")"
   ]
  },
  {
   "cell_type": "markdown",
   "metadata": {
    "application/vnd.databricks.v1+cell": {
     "cellMetadata": {},
     "inputWidgets": {},
     "nuid": "9aea5c3e-501b-43e6-b505-f4f2b12c1e6d",
     "showTitle": false,
     "tableResultSettingsMap": {},
     "title": ""
    }
   },
   "source": [
    "## Create the Vector Store endpoint and index from the source delta table\n",
    "See more in this [VS guide](https://docs.databricks.com/aws/en/generative-ai/create-query-vector-search)"
   ]
  },
  {
   "cell_type": "code",
   "execution_count": 0,
   "metadata": {
    "application/vnd.databricks.v1+cell": {
     "cellMetadata": {
      "byteLimit": 2048000,
      "rowLimit": 10000
     },
     "inputWidgets": {},
     "nuid": "c8d3332a-a22c-42f7-85a3-6258b77cbbeb",
     "showTitle": false,
     "tableResultSettingsMap": {},
     "title": ""
    }
   },
   "outputs": [],
   "source": [
    "from databricks.vector_search.client import VectorSearchClient\n",
    "\n",
    "client = VectorSearchClient()\n",
    "\n",
    "# Create VS endpoint\n",
    "# Check if the endpoint already exists\n",
    "endpoints = client.list_endpoints()\n",
    "endpoint_name = config.get('retriever')['vs_endpoint']\n",
    "if endpoint_name not in [ep.get('name') for ep in endpoints['endpoints']]:\n",
    "    # Create VS endpoint\n",
    "    client.create_endpoint(\n",
    "        name=endpoint_name,\n",
    "        endpoint_type=\"STANDARD\"\n",
    "    )\n",
    "\n",
    "# Create VS index\n",
    "index = client.create_delta_sync_index(\n",
    "  endpoint_name=config.get('retriever')['vs_endpoint'],\n",
    "  source_table_name=config.get('retriever')['vs_source'],\n",
    "  index_name=config.get('retriever')['vs_index'],\n",
    "  pipeline_type=\"TRIGGERED\",\n",
    "  primary_key=\"product_id\",\n",
    "  embedding_source_column=\"product_doc\",\n",
    "  embedding_model_endpoint_name=\"databricks-gte-large-en\"\n",
    ")"
   ]
  },
  {
   "cell_type": "code",
   "execution_count": 0,
   "metadata": {
    "application/vnd.databricks.v1+cell": {
     "cellMetadata": {},
     "inputWidgets": {},
     "nuid": "41b556d1-e741-4d22-90c4-c6ae3c6a70ed",
     "showTitle": false,
     "tableResultSettingsMap": {},
     "title": ""
    }
   },
   "outputs": [],
   "source": []
  }
 ],
 "metadata": {
  "application/vnd.databricks.v1+notebook": {
   "computePreferences": null,
   "dashboards": [],
   "environmentMetadata": {
    "base_environment": "",
    "environment_version": "2"
   },
   "inputWidgetPreferences": null,
   "language": "python",
   "notebookMetadata": {
    "mostRecentlyExecutedCommandWithImplicitDF": {
     "commandId": 913238801445526,
     "dataframes": [
      "_sqldf"
     ]
    },
    "pythonIndentUnit": 4
   },
   "notebookName": "0_setup",
   "widgets": {}
  },
  "language_info": {
   "name": "python"
  }
 },
 "nbformat": 4,
 "nbformat_minor": 0
}
