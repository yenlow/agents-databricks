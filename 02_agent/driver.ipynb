{
 "cells": [
  {
   "cell_type": "markdown",
   "metadata": {
    "application/vnd.databricks.v1+cell": {
     "cellMetadata": {
      "byteLimit": 2048000,
      "rowLimit": 10000
     },
     "inputWidgets": {},
     "nuid": "ce9e36d9-8673-4506-ae8f-591a68557543",
     "showTitle": false,
     "tableResultSettingsMap": {},
     "title": ""
    }
   },
   "source": [
    "# Part 2: Create agent (Driver notebook)\n",
    "This is very similar to an auto-generated notebook created by an AI Playground export. There are three notebooks in the same folder as a set:\n",
    "1. [agent]($./agent): contains the code to build the agent (only the code in `mlflow.models.set_model` will be served)\n",
    "2. [**driver**]($./driver): references the agent code then logs, registers, evaluates and deploys the agent.\n",
    "3. [config.yml]($./config.yml): contains the configuration settings.\n",
    "\n",
    "This notebook uses [Mosaic AI Agent Framework](https://docs.databricks.com/en/generative-ai/retrieval-augmented-generation.html) to create your agent. It defines a supervisory LangChain agent that decides which other 4 ReAct agents to assign tasks too. These 4 agents are:\n",
    "1. **SQL agent** that can run SQL functions (including batch AI functions) as tools\n",
    "2. **Calculator agent** that can run python code for mathematical calculations\n",
    "3. **Genie agent** that can do Q&A on structured table(s) using natural language\n",
    "4. **Retriever agent** that can do Q&A on unstructured text in a Vector Store\n",
    "![](../graph.png)\n",
    "\n",
    " **_NOTE:_**  This notebook uses LangChain, however Mosaic AI Agent Framework is [compatible](%md\n",
    "\n",
    "## Prerequisites\n",
    "1. Create the required tools (SQL functions, UC functions, Genie Space, Vector Store) in Part 1.\n",
    "2. Check  [config.yml]($./config.yml) settings\n",
    "\n",
    "## Next steps\n",
    "After evaluating and serving your agent in this notebook, try out your agent in AI Playground or Model Serving."
   ]
  },
  {
   "cell_type": "code",
   "execution_count": 0,
   "metadata": {
    "application/vnd.databricks.v1+cell": {
     "cellMetadata": {
      "byteLimit": 2048000,
      "rowLimit": 10000
     },
     "inputWidgets": {},
     "nuid": "b2f5342d-837c-414d-a28b-e804c0d9a8cf",
     "showTitle": false,
     "tableResultSettingsMap": {},
     "title": ""
    }
   },
   "outputs": [],
   "source": [
    "%pip install -U -qqqq databricks-agents langgraph==0.4.3 langgraph-supervisor==0.0.21 langgraph-checkpoint==2.0.25 langchain==0.3.25 langchain_core==0.3.59 langchain-community==0.3.24 pydantic==2.11.4 databricks-sdk==0.52.0 mlflow-skinny==2.22.0 databricks-langchain==0.5.0 databricks-vectorsearch==0.56\n",
    "# databricks-agents mlflow langchain==0.2.16 langgraph-checkpoint==1.0.12  langchain_core langchain-community==0.2.16 langgraph==0.2.16 pydantic langchain_databricks\n",
    "dbutils.library.restartPython()"
   ]
  },
  {
   "cell_type": "code",
   "execution_count": 0,
   "metadata": {
    "application/vnd.databricks.v1+cell": {
     "cellMetadata": {
      "byteLimit": 2048000,
      "rowLimit": 10000
     },
     "collapsed": true,
     "inputWidgets": {},
     "nuid": "d9a93ab1-ca21-45f1-9098-72e9b9da81f4",
     "showTitle": false,
     "tableResultSettingsMap": {},
     "title": ""
    }
   },
   "outputs": [],
   "source": [
    "%pip freeze > requirements_driver.txt"
   ]
  },
  {
   "cell_type": "code",
   "execution_count": 0,
   "metadata": {
    "application/vnd.databricks.v1+cell": {
     "cellMetadata": {
      "byteLimit": 2048000,
      "rowLimit": 10000
     },
     "inputWidgets": {},
     "nuid": "6f35f949-ec25-4802-b827-2592685e41c4",
     "showTitle": false,
     "tableResultSettingsMap": {},
     "title": ""
    }
   },
   "outputs": [],
   "source": [
    "import mlflow\n",
    "\n",
    "def get_latest_model_version(model_name):\n",
    "    from mlflow.tracking import MlflowClient\n",
    "    mlflow_client = MlflowClient(registry_uri=\"databricks-uc\")\n",
    "    latest_version = 1\n",
    "    for mv in mlflow_client.search_model_versions(f\"name='{model_name}'\"):\n",
    "        version_int = int(mv.version)\n",
    "        if version_int > latest_version:\n",
    "            latest_version = version_int\n",
    "    return latest_version"
   ]
  },
  {
   "cell_type": "code",
   "execution_count": 0,
   "metadata": {
    "application/vnd.databricks.v1+cell": {
     "cellMetadata": {
      "byteLimit": 2048000,
      "rowLimit": 10000
     },
     "inputWidgets": {},
     "nuid": "72f10c00-e84f-4bc9-b074-1811ea3015db",
     "showTitle": false,
     "tableResultSettingsMap": {},
     "title": ""
    }
   },
   "outputs": [],
   "source": [
    "from mlflow.models import ModelConfig\n",
    "\n",
    "mlflow.langchain.autolog()\n",
    "mlflow.set_registry_uri('databricks-uc')\n",
    "\n",
    "config = ModelConfig(development_config=\"config.yml\")\n",
    "config.to_dict()"
   ]
  },
  {
   "cell_type": "code",
   "execution_count": 0,
   "metadata": {
    "application/vnd.databricks.v1+cell": {
     "cellMetadata": {
      "byteLimit": 2048000,
      "rowLimit": 10000
     },
     "inputWidgets": {},
     "nuid": "e9827450-c4dc-4291-bd25-97f6fe1ad3a8",
     "showTitle": false,
     "tableResultSettingsMap": {},
     "title": ""
    }
   },
   "outputs": [],
   "source": [
    "catalog_name = config.get(\"catalog\")\n",
    "schema_name = config.get(\"schema\")\n",
    "model_name = \"customer_service\"\n",
    "\n",
    "registered_name = f\"{catalog_name}.{schema_name}.{model_name}\"\n",
    "artifact_path = \"agent\""
   ]
  },
  {
   "cell_type": "code",
   "execution_count": 0,
   "metadata": {
    "application/vnd.databricks.v1+cell": {
     "cellMetadata": {
      "byteLimit": 2048000,
      "rowLimit": 10000
     },
     "inputWidgets": {},
     "nuid": "b43e6298-e33c-4a99-8ac6-385c4e67d71d",
     "showTitle": false,
     "tableResultSettingsMap": {},
     "title": ""
    }
   },
   "outputs": [],
   "source": [
    "query = \"Can you give me some troubleshooting steps for SoundWave X5 Pro Headphones that won't connect?\"\n",
    "input_example = {\n",
    "    \"messages\": [\n",
    "        {\n",
    "            \"role\": \"user\",\n",
    "            \"content\": query\n",
    "        }\n",
    "    ]\n",
    "}"
   ]
  },
  {
   "cell_type": "markdown",
   "metadata": {
    "application/vnd.databricks.v1+cell": {
     "cellMetadata": {
      "byteLimit": 2048000,
      "rowLimit": 10000
     },
     "inputWidgets": {},
     "nuid": "c3049247-dd3d-4180-9858-5c8cdfbccda7",
     "showTitle": false,
     "tableResultSettingsMap": {},
     "title": ""
    }
   },
   "source": [
    "### Log the `agent` as an MLflow model\n",
    "Log the agent as code from the [agent]($./agent) notebook. See [MLflow - Models from Code](https://mlflow.org/docs/latest/models.html#models-from-code)."
   ]
  },
  {
   "cell_type": "code",
   "execution_count": 0,
   "metadata": {
    "application/vnd.databricks.v1+cell": {
     "cellMetadata": {
      "byteLimit": 2048000,
      "rowLimit": 10000
     },
     "inputWidgets": {},
     "nuid": "1a6e104d-b049-49bf-81bf-eb47abe35a8a",
     "showTitle": false,
     "tableResultSettingsMap": {},
     "title": ""
    }
   },
   "outputs": [],
   "source": [
    "# Log the model to MLflow\n",
    "import os\n",
    "from mlflow.models.resources import (\n",
    "    DatabricksVectorSearchIndex, \n",
    "    DatabricksServingEndpoint,\n",
    "    DatabricksFunction,\n",
    "    DatabricksGenieSpace,\n",
    "    DatabricksTable\n",
    ")\n",
    "\n",
    "with mlflow.start_run():\n",
    "    logged_agent_info = mlflow.langchain.log_model(\n",
    "        # in agent_noextras, VS is code, not a fn\n",
    "        lc_model=os.path.join(os.getcwd(), 'agent'),\n",
    "        artifact_path=artifact_path,\n",
    "        registered_model_name=registered_name,\n",
    "        model_config=\"config.yml\",\n",
    "        pip_requirements=[\n",
    "            \"langchain==0.3.25\",\n",
    "            \"langchain-community==0.3.24\",\n",
    "            \"langgraph==0.4.3\",\n",
    "            \"langgraph-supervisor==0.0.21\",\n",
    "            \"langgraph-prebuilt==0.1.8\",\n",
    "            \"langgraph-checkpoint==2.0.25\",\n",
    "            \"pydantic==2.11.4\",\n",
    "            \"databricks_langchain==0.5.0\",\n",
    "            \"databricks-vectorsearch==0.56\",\n",
    "            \"ipython\"\n",
    "        ],\n",
    "        input_example=input_example,\n",
    "        # specify resources for deployed server to have explicit access\n",
    "        resources=[\n",
    "            DatabricksServingEndpoint(endpoint_name=config.get(\"llm_endpoint\")),\n",
    "            DatabricksVectorSearchIndex(index_name=config.get('retriever')['vs_index']),\n",
    "            DatabricksFunction(function_name=\"yen_training.agents.get_latest_interaction\"),\n",
    "            DatabricksFunction(function_name=\"yen_training.agents.get_requests_history\"),\n",
    "            DatabricksFunction(function_name=\"yen_training.agents.get_return_policy\"),\n",
    "            DatabricksFunction(function_name=\"yen_training.agents.extract_product\"),\n",
    "            DatabricksFunction(function_name=\"system.ai.python_exec\"),\n",
    "            DatabricksGenieSpace(genie_space_id=config.get(\"genie_space_id\")),\n",
    "            DatabricksTable(table_name=config.get(\"genie_table\")),\n",
    "        ]\n",
    "    )"
   ]
  },
  {
   "cell_type": "code",
   "execution_count": 0,
   "metadata": {
    "application/vnd.databricks.v1+cell": {
     "cellMetadata": {
      "byteLimit": 2048000,
      "rowLimit": 10000
     },
     "inputWidgets": {},
     "nuid": "a7612cab-4eee-4742-a044-a68bec2cb9b1",
     "showTitle": false,
     "tableResultSettingsMap": {},
     "title": ""
    }
   },
   "outputs": [],
   "source": [
    "model_uri = f\"runs:/{logged_agent_info.run_id}/{artifact_path}\"\n",
    "#model_uri = 'runs:/a7927c82ca514389ba8da34825984c53/agent'"
   ]
  },
  {
   "cell_type": "markdown",
   "metadata": {
    "application/vnd.databricks.v1+cell": {
     "cellMetadata": {
      "byteLimit": 2048000,
      "rowLimit": 10000
     },
     "inputWidgets": {},
     "nuid": "f7e2bc75-7376-4ae1-99bc-71f1b2e93491",
     "showTitle": false,
     "tableResultSettingsMap": {},
     "title": ""
    }
   },
   "source": [
    "## Evaluate the agent with [Agent Evaluation](https://docs.databricks.com/generative-ai/agent-evaluation/index.html)\n",
    "\n",
    "### Curate a Q&A evaluation dataset"
   ]
  },
  {
   "cell_type": "code",
   "execution_count": 0,
   "metadata": {
    "application/vnd.databricks.v1+cell": {
     "cellMetadata": {
      "byteLimit": 2048000,
      "rowLimit": 10000
     },
     "inputWidgets": {},
     "nuid": "2d8ac512-3291-480d-bc5b-f69401bee350",
     "showTitle": false,
     "tableResultSettingsMap": {},
     "title": ""
    }
   },
   "outputs": [],
   "source": [
    "import pandas as pd\n",
    "\n",
    "data = {\n",
    "    \"request\": [\n",
    "        \"What color options are available for the Aria Modern Bookshelf?\",\n",
    "        \"How should I clean the Aurora Oak Coffee Table to avoid damaging it?\",\n",
    "        \"How should I clean the BlendMaster Elite 4000 after each use?\",\n",
    "        \"How many colors is the Flexi-Comfort Office Desk available in?\",\n",
    "        \"What sizes are available for the StormShield Pro Men's Weatherproof Jacket?\",\n",
    "        \"What should I do if my SmartX Pro device won’t turn on?\",\n",
    "        \"How many people can the Elegance Extendable Dining Table seat comfortably?\",\n",
    "        \"What colors is the Urban Explorer Jacket available in?\",\n",
    "        \"What is the water resistance rating of the BrownBox SwiftWatch X500?\",\n",
    "        \"What colors are available for the StridePro Runner?\"\n",
    "    ],\n",
    "    \"expected_facts\": [\n",
    "        [\n",
    "            \"The Aria Modern Bookshelf is available in natural oak finish\",\n",
    "            \"The Aria Modern Bookshelf is available in black finish\",\n",
    "            \"The Aria Modern Bookshelf is available in white finish\"\n",
    "        ],\n",
    "        [\n",
    "            \"Use a soft, slightly damp cloth for cleaning.\",\n",
    "            \"Avoid using abrasive cleaners.\"\n",
    "        ],\n",
    "        [\n",
    "            \"The jar of the BlendMaster Elite 4000 should be rinsed.\",\n",
    "            \"Rinse with warm water.\",\n",
    "            \"The cleaning should take place after each use.\"\n",
    "        ],\n",
    "        [\n",
    "            \"The Flexi-Comfort Office Desk is available in three colors.\"\n",
    "        ],\n",
    "        [\n",
    "            \"The available sizes for the StormShield Pro Men's Weatherproof Jacket are Small, Medium, Large, XL, and XXL.\"\n",
    "        ],\n",
    "        [\n",
    "            \"Press and hold the power button for 20 seconds to reset the device.\",\n",
    "            \"Ensure the device is charged for at least 30 minutes before attempting to turn it on again.\"\n",
    "        ],\n",
    "        [\n",
    "            \"The Elegance Extendable Dining Table can comfortably seat 6 people.\"\n",
    "        ],\n",
    "        [\n",
    "            \"The Urban Explorer Jacket is available in charcoal, navy, and olive green\"\n",
    "        ],\n",
    "        [\n",
    "            \"The water resistance rating of the BrownBox SwiftWatch X500 is 5 ATM.\"\n",
    "        ],\n",
    "        [\n",
    "            \"The colors available for the StridePro Runner should include Midnight Blue.\",\n",
    "            \"The colors available for the StridePro Runner should include Electric Red.\",\n",
    "            \"The colors available for the StridePro Runner should include Forest Green.\"\n",
    "        ]\n",
    "    ]\n",
    "}\n",
    "\n",
    "eval_dataset = pd.DataFrame(data)\n",
    "display(eval_dataset)"
   ]
  },
  {
   "cell_type": "markdown",
   "metadata": {
    "application/vnd.databricks.v1+cell": {
     "cellMetadata": {},
     "inputWidgets": {},
     "nuid": "cf8bca0c-9386-434a-9588-85af30117d2c",
     "showTitle": false,
     "tableResultSettingsMap": {},
     "title": ""
    }
   },
   "source": [
    "### [OPTIONAL] Generate synthetic Q&A evaluation dataset"
   ]
  },
  {
   "cell_type": "code",
   "execution_count": 0,
   "metadata": {
    "application/vnd.databricks.v1+cell": {
     "cellMetadata": {
      "byteLimit": 2048000,
      "rowLimit": 10000
     },
     "inputWidgets": {},
     "nuid": "8c63adbe-7548-4f19-8d2f-a992d375d95d",
     "showTitle": false,
     "tableResultSettingsMap": {},
     "title": ""
    }
   },
   "outputs": [],
   "source": [
    "# Use the synthetic eval generation API to get some evals\n",
    "from databricks.agents.evals import generate_evals_df\n",
    "\n",
    "# Documents to generate synthetic Q&A grounded on the document context\n",
    "# should be in a Pandas or Spark DataFrame with columns `content STRING` and `doc_uri STRING`.\n",
    "docs = spark.table(\"yen_training.agents.product_docs\") \\\n",
    "  .withColumnsRenamed({\"product_id\": \"doc_uri\",\n",
    "                       \"product_doc\": \"content\"})\n",
    "  \n",
    "# \"Ghost text\" for agent description and question guidelines - feel free to modify as you see fit.\n",
    "agent_description = f\"\"\"\n",
    "The agent is a RAG chatbot that answers product questions using the product documentation\"\"\"\n",
    "question_guidelines = f\"\"\"\n",
    "# User personas\n",
    "- A customer asking about product specifications and how to use a product\n",
    "- A customer support assistant asking how to address customer's questions\n",
    "\n",
    "# Example questions\n",
    "- How to troubleshooting connecting to wireless headphones via bluetooth?\n",
    "- What is the weight of a Macbook Pro?\n",
    "\n",
    "# Additional Guidelines\n",
    "- Questions should human-like and not repeat the same information.\n",
    "\"\"\"\n",
    "\n",
    "eval_dataset = generate_evals_df(\n",
    "    docs=docs,  # Pass your docs. \n",
    "    num_evals=1000,  # How many synthetic evaluations to generate\n",
    "    agent_description=agent_description,\n",
    "    question_guidelines=question_guidelines,\n",
    ")\n",
    "display(eval_dataset)"
   ]
  },
  {
   "cell_type": "code",
   "execution_count": 0,
   "metadata": {
    "application/vnd.databricks.v1+cell": {
     "cellMetadata": {
      "byteLimit": 2048000,
      "rowLimit": 10000
     },
     "inputWidgets": {},
     "nuid": "3a4077bc-6210-4362-b16a-e0970322788f",
     "showTitle": false,
     "tableResultSettingsMap": {},
     "title": ""
    }
   },
   "outputs": [],
   "source": [
    "spark.createDataFrame(eval_dataset) \\\n",
    "    .write.mode(\"overwrite\") \\\n",
    "    .saveAsTable(\"yen_training.agents.syn_eval_dataset\")"
   ]
  },
  {
   "cell_type": "code",
   "execution_count": 0,
   "metadata": {
    "application/vnd.databricks.v1+cell": {
     "cellMetadata": {
      "byteLimit": 2048000,
      "rowLimit": 10000
     },
     "inputWidgets": {},
     "nuid": "ea671f5f-8fcb-4952-8dd1-3ff44c7f1a18",
     "showTitle": false,
     "tableResultSettingsMap": {},
     "title": ""
    }
   },
   "outputs": [],
   "source": [
    "import mlflow\n",
    "import pandas as pd\n",
    "\n",
    "with mlflow.start_run(run_id=logged_agent_info.run_id):\n",
    "    eval_results = mlflow.evaluate(\n",
    "        model_uri,  # replace `chain` with artifact_path that you used when calling log_model.\n",
    "        data=eval_dataset,  # Your evaluation dataset\n",
    "        model_type=\"databricks-agent\",  # Enable Mosaic AI Agent \n",
    "    )\n",
    "\n",
    "# Review the evaluation results in the MLFLow UI (see console output), or access them in place:\n",
    "display(eval_results.tables['eval_results'])"
   ]
  },
  {
   "cell_type": "markdown",
   "metadata": {
    "application/vnd.databricks.v1+cell": {
     "cellMetadata": {
      "byteLimit": 2048000,
      "rowLimit": 10000
     },
     "inputWidgets": {},
     "nuid": "974deb5f-c6be-47f9-b862-eb1a32d96bc3",
     "showTitle": false,
     "tableResultSettingsMap": {},
     "title": ""
    }
   },
   "source": [
    "## Change our retriever `k` to 2 in [config.yml]($./config.yml) \n",
    "Avoid retrieving too many contradictory documents"
   ]
  },
  {
   "cell_type": "code",
   "execution_count": 0,
   "metadata": {
    "application/vnd.databricks.v1+cell": {
     "cellMetadata": {
      "byteLimit": 2048000,
      "rowLimit": 10000
     },
     "inputWidgets": {},
     "nuid": "93c7c134-d6c2-492d-82a5-57c717ea10e3",
     "showTitle": false,
     "tableResultSettingsMap": {},
     "title": ""
    }
   },
   "outputs": [],
   "source": [
    "from IPython.display import display, HTML\n",
    "\n",
    "# Retrieve the Databricks host URL\n",
    "workspace_url = spark.conf.get('spark.databricks.workspaceUrl')\n",
    "\n",
    "# Create HTML link to created agent\n",
    "html_link = f'<a href=\"https://{workspace_url}/explore/data/models/{catalog_name}/{schema_name}/{model_name}\" target=\"_blank\">Go to Unity Catalog to see Registered Agent</a>'\n",
    "display(HTML(html_link))"
   ]
  },
  {
   "cell_type": "markdown",
   "metadata": {
    "application/vnd.databricks.v1+cell": {
     "cellMetadata": {
      "byteLimit": 2048000,
      "rowLimit": 10000
     },
     "inputWidgets": {},
     "nuid": "2c01d7c5-5743-4fb2-963f-6af0445d660b",
     "showTitle": false,
     "tableResultSettingsMap": {},
     "title": ""
    }
   },
   "source": [
    "## Deploy the agent"
   ]
  },
  {
   "cell_type": "code",
   "execution_count": 0,
   "metadata": {
    "application/vnd.databricks.v1+cell": {
     "cellMetadata": {
      "byteLimit": 2048000,
      "rowLimit": 10000
     },
     "inputWidgets": {},
     "nuid": "1b648db4-f35b-463e-b699-db0294ecc509",
     "showTitle": false,
     "tableResultSettingsMap": {},
     "title": ""
    }
   },
   "outputs": [],
   "source": [
    "from databricks import agents\n",
    "\n",
    "latest_version = get_latest_model_version(registered_name)\n",
    "latest_version"
   ]
  },
  {
   "cell_type": "code",
   "execution_count": 0,
   "metadata": {
    "application/vnd.databricks.v1+cell": {
     "cellMetadata": {
      "byteLimit": 2048000,
      "rowLimit": 10000
     },
     "inputWidgets": {},
     "nuid": "a3f4eb36-456d-4132-be59-499a4e91dc62",
     "showTitle": false,
     "tableResultSettingsMap": {},
     "title": ""
    }
   },
   "outputs": [],
   "source": [
    "# Deploy the model to the review app and a model serving endpoint\n",
    "agents.deploy(model_name=registered_name, \n",
    "              model_version=latest_version,\n",
    "              scale_to_zero=True,\n",
    "              tags = {\"endpointSource\": \"playground\"})"
   ]
  },
  {
   "cell_type": "markdown",
   "metadata": {
    "application/vnd.databricks.v1+cell": {
     "cellMetadata": {
      "byteLimit": 2048000,
      "rowLimit": 10000
     },
     "inputWidgets": {},
     "nuid": "0de3da31-2896-4a9a-876c-71e3d6d6783a",
     "showTitle": false,
     "tableResultSettingsMap": {},
     "title": ""
    }
   },
   "source": [
    "## [OPTIONAL] For testing inferencing locally\n",
    "Useful to test inferencing before remote deployment"
   ]
  },
  {
   "cell_type": "code",
   "execution_count": 0,
   "metadata": {
    "application/vnd.databricks.v1+cell": {
     "cellMetadata": {
      "byteLimit": 2048000,
      "rowLimit": 10000
     },
     "collapsed": true,
     "inputWidgets": {},
     "nuid": "d40ea427-eb35-497a-8631-41800129ac88",
     "showTitle": false,
     "tableResultSettingsMap": {},
     "title": ""
    }
   },
   "outputs": [],
   "source": [
    "# Test a question best answered by the retriever\n",
    "loaded_model = mlflow.langchain.load_model(model_uri)\n",
    "loaded_model.invoke(input_example)"
   ]
  },
  {
   "cell_type": "code",
   "execution_count": 0,
   "metadata": {
    "application/vnd.databricks.v1+cell": {
     "cellMetadata": {
      "byteLimit": 2048000,
      "rowLimit": 10000
     },
     "collapsed": true,
     "inputWidgets": {},
     "nuid": "cbd08db8-16bd-4455-92cf-0c2f1f6fa5d4",
     "showTitle": false,
     "tableResultSettingsMap": {},
     "title": ""
    }
   },
   "outputs": [],
   "source": [
    "# Test a question best answered by Genie (chat with Customer Service table)\n",
    "example = {\n",
    "    \"messages\": [\n",
    "        {\n",
    "            \"role\": \"user\",\n",
    "            \"content\": \"In which month do we have the most customer requests?\"\n",
    "        }\n",
    "    ]\n",
    "}\n",
    "loaded_model.invoke(example)"
   ]
  },
  {
   "cell_type": "code",
   "execution_count": 0,
   "metadata": {
    "application/vnd.databricks.v1+cell": {
     "cellMetadata": {
      "byteLimit": 2048000,
      "rowLimit": 10000
     },
     "collapsed": true,
     "inputWidgets": {},
     "nuid": "1aef8367-bc33-4f47-bebc-a071e734844d",
     "showTitle": false,
     "tableResultSettingsMap": {},
     "title": ""
    }
   },
   "outputs": [],
   "source": [
    "# Test a question best answered by the function tools esp calculator (without CoT)\n",
    "example = {\n",
    "    \"messages\": [\n",
    "        {\n",
    "            \"role\": \"user\",\n",
    "            \"content\": \"For the customer named Tina Daugherty, how much in costs has been incurred assuming that each customer return costs $20, each technical support interaction cost $10 and each product inqury costs $5?\"\n",
    "        }\n",
    "    ]\n",
    "}\n",
    "loaded_model.invoke(example)"
   ]
  },
  {
   "cell_type": "code",
   "execution_count": 0,
   "metadata": {
    "application/vnd.databricks.v1+cell": {
     "cellMetadata": {
      "byteLimit": 2048000,
      "rowLimit": 10000
     },
     "collapsed": true,
     "inputWidgets": {},
     "nuid": "06390c4b-2d16-45bc-baf6-c5efafeb13a3",
     "showTitle": false,
     "tableResultSettingsMap": {},
     "title": ""
    }
   },
   "outputs": [],
   "source": [
    "# Test a question best answered by the function tools esp calculator (with CoT)\n",
    "example = {\n",
    "    \"messages\": [\n",
    "        {\n",
    "            \"role\": \"user\",\n",
    "            \"content\": \"For the customer named Tina Daugherty, how much in costs has been incurred assuming that each customer return costs $20, each technical support interaction cost $10 and each product inqury costs $5? To do this, first get the request history for Tina Daugherty returning the number of the returns, technical support interactions and product inquries and then compute the total cost with a calculator.\"\n",
    "        }\n",
    "    ]\n",
    "}\n",
    "loaded_model.invoke(example)"
   ]
  },
  {
   "cell_type": "code",
   "execution_count": 0,
   "metadata": {
    "application/vnd.databricks.v1+cell": {
     "cellMetadata": {
      "byteLimit": 2048000,
      "rowLimit": 10000
     },
     "inputWidgets": {},
     "nuid": "8ed3235e-16de-4263-8dc5-170df39bbf38",
     "showTitle": false,
     "tableResultSettingsMap": {},
     "title": ""
    }
   },
   "outputs": [],
   "source": [
    "# Test a question best answered by the function tools esp ai_extract\n",
    "example = {\n",
    "    \"messages\": [\n",
    "        {\n",
    "            \"role\": \"user\",\n",
    "            \"content\": \"Which is the most frequently mentioned product in the issue descriptions? First query issue_description in customer service data, then apply the extract_product tool on the issue_description. Answer with only the product name and nothing else.\"\n",
    "        }\n",
    "    ]\n",
    "}\n",
    "loaded_model.invoke(example)"
   ]
  }
 ],
 "metadata": {
  "application/vnd.databricks.v1+notebook": {
   "computePreferences": null,
   "dashboards": [],
   "environmentMetadata": {
    "base_environment": "",
    "environment_version": "2"
   },
   "inputWidgetPreferences": null,
   "language": "python",
   "notebookMetadata": {
    "mostRecentlyExecutedCommandWithImplicitDF": {
     "commandId": 2860937171326313,
     "dataframes": [
      "_sqldf"
     ]
    },
    "pythonIndentUnit": 4
   },
   "notebookName": "driver",
   "widgets": {}
  },
  "language_info": {
   "name": "python"
  }
 },
 "nbformat": 4,
 "nbformat_minor": 0
}
